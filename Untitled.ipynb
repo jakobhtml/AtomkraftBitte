{
 "cells": [
  {
   "cell_type": "code",
   "execution_count": 8,
   "metadata": {},
   "outputs": [],
   "source": [
    "import numpy as np\n",
    "import math\n",
    "import random"
   ]
  },
  {
   "cell_type": "code",
   "execution_count": 9,
   "metadata": {},
   "outputs": [],
   "source": [
    "#p1\n",
    "plant1 = [50000,10000,100]\n",
    "market1 = [0.45,2000000]\n",
    "plant2 = [600000, 80000, 50]\n",
    "market2 = [0.25,30000000]\n",
    "plant3 = [4000000,400000, 3]\n",
    "market3 = [0.2,20000000]\n",
    "costprice = 0.6\n",
    "n = 10"
   ]
  },
  {
   "cell_type": "code",
   "execution_count": 12,
   "metadata": {},
   "outputs": [
    {
     "data": {
      "text/plain": [
       "array([[4.96591200e+06, 2.97036400e+07, 3.43984600e+06, 3.99469000e+05,\n",
       "        2.19354190e+07, 5.88496600e+06, 9.95409975e-01, 2.42157762e-01,\n",
       "        1.09145508e-01],\n",
       "       [1.84960000e+05, 9.97125000e+05, 6.49740800e+06, 1.74684300e+06,\n",
       "        2.16671340e+07, 1.74595880e+07, 9.46782145e-01, 1.98250351e-01,\n",
       "        4.28409017e-01],\n",
       "       [2.86825900e+06, 1.60361800e+07, 5.19512500e+06, 5.15292000e+05,\n",
       "        1.17737290e+07, 1.70199500e+07, 9.08664954e-01, 2.11421704e-01,\n",
       "        2.43077856e-01],\n",
       "       [1.38729300e+06, 9.91181400e+06, 7.79491300e+06, 1.66496100e+06,\n",
       "        2.62188600e+07, 5.74386500e+06, 9.95065661e-01, 9.16221942e-01,\n",
       "        7.34112991e-01],\n",
       "       [4.15657200e+06, 1.83631240e+07, 4.20529100e+06, 1.36628000e+06,\n",
       "        6.76398300e+06, 1.52974700e+07, 3.74576149e-01, 8.57788548e-01,\n",
       "        1.33872721e-01],\n",
       "       [2.19870000e+04, 2.69360590e+07, 5.99461000e+05, 1.40482700e+06,\n",
       "        7.64600800e+06, 1.85566000e+05, 9.13564205e-01, 1.35314002e-01,\n",
       "        8.58854546e-01],\n",
       "       [3.82627600e+06, 2.37062650e+07, 1.06107690e+07, 7.49322000e+05,\n",
       "        2.42335380e+07, 1.39375350e+07, 6.77779346e-01, 4.84907283e-01,\n",
       "        2.79197575e-01],\n",
       "       [3.08528900e+06, 1.87759680e+07, 1.07347840e+07, 1.63172700e+06,\n",
       "        1.78158360e+07, 3.15783400e+06, 2.98519254e-01, 1.11980138e-01,\n",
       "        8.62105864e-01],\n",
       "       [9.61713000e+05, 2.58383870e+07, 5.33946600e+06, 1.54399700e+06,\n",
       "        2.44886810e+07, 7.31694700e+06, 1.80804936e-01, 4.54152183e-01,\n",
       "        8.13352278e-01],\n",
       "       [2.09610700e+06, 4.03353900e+06, 1.77943200e+06, 3.47991000e+05,\n",
       "        2.56131000e+07, 1.89980230e+07, 2.49200695e-01, 2.79321629e-01,\n",
       "        1.55224868e-01]])"
      ]
     },
     "execution_count": 12,
     "metadata": {},
     "output_type": "execute_result"
    }
   ],
   "source": [
    "population = np.zeros((n, 9))\n",
    "for row in range(len(population)):\n",
    "    population[row,0] = random.randint(0,5000000)\n",
    "    population[row,1] = random.randint(0,30000000)\n",
    "    population[row,2] = random.randint(0,12000000)\n",
    "    population[row,3] = random.randint(0,2000000)\n",
    "    population[row,4] = random.randint(0,30000000)\n",
    "    population[row,5] = random.randint(0,20000000)\n",
    "    population[row,6] = random.uniform(0,0.45)\n",
    "    population[row,7] = random.uniform(0,0.25)\n",
    "    population[row,8] = random.uniform(0,0.2)\n",
    "population"
   ]
  },
  {
   "cell_type": "code",
   "execution_count": null,
   "metadata": {},
   "outputs": [],
   "source": []
  },
  {
   "cell_type": "code",
   "execution_count": null,
   "metadata": {},
   "outputs": [],
   "source": []
  }
 ],
 "metadata": {
  "kernelspec": {
   "display_name": "Python 3",
   "language": "python",
   "name": "python3"
  },
  "language_info": {
   "codemirror_mode": {
    "name": "ipython",
    "version": 3
   },
   "file_extension": ".py",
   "mimetype": "text/x-python",
   "name": "python",
   "nbconvert_exporter": "python",
   "pygments_lexer": "ipython3",
   "version": "3.7.1"
  }
 },
 "nbformat": 4,
 "nbformat_minor": 2
}
