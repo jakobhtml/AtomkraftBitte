{
 "cells": [
  {
   "cell_type": "code",
   "execution_count": 1,
   "metadata": {},
   "outputs": [],
   "source": [
    "import numpy as np\n",
    "import math\n",
    "import random"
   ]
  },
  {
   "cell_type": "code",
   "execution_count": 2,
   "metadata": {},
   "outputs": [],
   "source": [
    "plant1 = [50000,10000,100]\n",
    "plant2 = [600000, 80000, 50]\n",
    "plant3 = [4000000,400000, 3]\n",
    "market1 = [0.45,2000000]\n",
    "market2 = [0.25,30000000]\n",
    "market3 = [0.2,20000000]\n",
    "costprice = 0.6\n",
    "n = 100"
   ]
  },
  {
   "cell_type": "code",
   "execution_count": 3,
   "metadata": {},
   "outputs": [],
   "source": [
    "def cost(x, plant):\n",
    "    \n",
    "    if(x <= 0):\n",
    "        return 0\n",
    "    \n",
    "    if(x > plant[0] * plant[2]):\n",
    "        return LARGE\n",
    "    \n",
    "    plantsNeeded = math.ceil(x / plant[0])\n",
    "    \n",
    "    return plantsNeeded * plant[1]"
   ]
  },
  {
   "cell_type": "code",
   "execution_count": 4,
   "metadata": {},
   "outputs": [],
   "source": [
    "def demand(price, market):\n",
    "    \n",
    "    if(price > market[0]):\n",
    "        return 0\n",
    "    \n",
    "    if(price <= 0):\n",
    "        return market[1]\n",
    "    \n",
    "    demand = market[1] - price**2 * market[1] / market[0]**2\n",
    "    \n",
    "    return demand"
   ]
  },
  {
   "cell_type": "code",
   "execution_count": 5,
   "metadata": {},
   "outputs": [],
   "source": [
    "def objective_function(x):\n",
    "    purchasing_cost = max((x[3]+x[4]+x[5])-(x[0]+x[1]+x[2]),0)*costprice\n",
    "    production_cost = cost(x[0], plant1) + cost(x[1], plant2) + cost(x[2], plant3)\n",
    "    cost_all = purchasing_cost + production_cost\n",
    "    revenue = min(demand(x[6], market1), x[3])*x[6] + min(demand(x[7], market2), x[4])*x[7] + min(demand(x[8], market3), x[5])*x[8]\n",
    "    profit = revenue - cost_all\n",
    "    return profit"
   ]
  },
  {
   "cell_type": "code",
   "execution_count": 24,
   "metadata": {},
   "outputs": [],
   "source": [
    "population = np.zeros((n, 9))\n",
    "for row in range(len(population)):\n",
    "    population[row,0] = random.randint(0,5000000)\n",
    "    population[row,1] = random.randint(0,30000000)\n",
    "    population[row,2] = random.randint(0,12000000)\n",
    "    population[row,3] = random.randint(0,2000000)\n",
    "    population[row,4] = random.randint(0,30000000)\n",
    "    population[row,5] = random.randint(0,20000000)\n",
    "    population[row,6] = random.uniform(0,0.45)\n",
    "    population[row,7] = random.uniform(0,0.25)\n",
    "    population[row,8] = random.uniform(0,0.2)\n",
    "\n"
   ]
  },
  {
   "cell_type": "code",
   "execution_count": 23,
   "metadata": {},
   "outputs": [
    {
     "name": "stdout",
     "output_type": "stream",
     "text": [
      "-235229.13386781327\n"
     ]
    }
   ],
   "source": [
    "solutions = []\n",
    "\n",
    "for x in population:\n",
    "    solutions.append(objective_function(x))\n",
    "    \n",
    "print(max(solutions))"
   ]
  }
 ],
 "metadata": {
  "kernelspec": {
   "display_name": "Python 3",
   "language": "python",
   "name": "python3"
  },
  "language_info": {
   "codemirror_mode": {
    "name": "ipython",
    "version": 3
   },
   "file_extension": ".py",
   "mimetype": "text/x-python",
   "name": "python",
   "nbconvert_exporter": "python",
   "pygments_lexer": "ipython3",
   "version": "3.7.1"
  }
 },
 "nbformat": 4,
 "nbformat_minor": 2
}
